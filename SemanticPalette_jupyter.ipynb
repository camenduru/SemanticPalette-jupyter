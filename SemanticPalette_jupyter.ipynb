{
  "cells": [
    {
      "cell_type": "markdown",
      "metadata": {
        "id": "view-in-github"
      },
      "source": [
        "[![Open In Colab](https://colab.research.google.com/assets/colab-badge.svg)](https://colab.research.google.com/github/camenduru/SemanticPalette-jupyter/blob/main/SemanticPalette_jupyter.ipynb)"
      ]
    },
    {
      "cell_type": "code",
      "execution_count": null,
      "metadata": {
        "id": "VjYy0F2gZIPR"
      },
      "outputs": [],
      "source": [
        "%cd /content\n",
        "!GIT_LFS_SKIP_SMUDGE=1 git clone -b dev https://github.com/camenduru/SemanticPalette-hf\n",
        "%cd /content/SemanticPalette-hf\n",
        "!pip install gradio==4.21.0 diffusers einops transformers peft\n",
        "\n",
        "!wget 'https://huggingface.co/spaces/ironjr/SemanticPalette/resolve/main/examples/image%20(10).png' -O '/content/SemanticPalette-hf/examples/image (10).png'\n",
        "!wget 'https://huggingface.co/spaces/ironjr/SemanticPalette/resolve/main/examples/image%20(11).png' -O '/content/SemanticPalette-hf/examples/image (11).png'\n",
        "!wget 'https://huggingface.co/spaces/ironjr/SemanticPalette/resolve/main/examples/image%20(12).png' -O '/content/SemanticPalette-hf/examples/image (12).png'\n",
        "!wget 'https://huggingface.co/spaces/ironjr/SemanticPalette/resolve/main/examples/image%20(13).png' -O '/content/SemanticPalette-hf/examples/image (13).png'\n",
        "!wget 'https://huggingface.co/spaces/ironjr/SemanticPalette/resolve/main/examples/image%20(14).png' -O '/content/SemanticPalette-hf/examples/image (14).png'\n",
        "!wget 'https://huggingface.co/spaces/ironjr/SemanticPalette/resolve/main/examples/image%20(15).png' -O '/content/SemanticPalette-hf/examples/image (15).png'\n",
        "!wget 'https://huggingface.co/spaces/ironjr/SemanticPalette/resolve/main/examples/image%20(16).png' -O '/content/SemanticPalette-hf/examples/image (16).png'\n",
        "!wget 'https://huggingface.co/spaces/ironjr/SemanticPalette/resolve/main/examples/image%20(19).png' -O '/content/SemanticPalette-hf/examples/image (19).png'\n",
        "!wget 'https://huggingface.co/spaces/ironjr/SemanticPalette/resolve/main/examples/image%20(20).png' -O '/content/SemanticPalette-hf/examples/image (20).png'\n",
        "!wget 'https://huggingface.co/spaces/ironjr/SemanticPalette/resolve/main/examples/image%20(21).png' -O '/content/SemanticPalette-hf/examples/image (21).png'\n",
        "!wget 'https://huggingface.co/spaces/ironjr/SemanticPalette/resolve/main/examples/image%20(3).png' -O '/content/SemanticPalette-hf/examples/image (3).png'\n",
        "!wget 'https://huggingface.co/spaces/ironjr/SemanticPalette/resolve/main/examples/image%20(4).png' -O '/content/SemanticPalette-hf/examples/image (4).png'\n",
        "!wget 'https://huggingface.co/spaces/ironjr/SemanticPalette/resolve/main/examples/image%20(5).png' -O '/content/SemanticPalette-hf/examples/image (5).png'\n",
        "!wget 'https://huggingface.co/spaces/ironjr/SemanticPalette/resolve/main/examples/image%20(6).png' -O '/content/SemanticPalette-hf/examples/image (6).png'\n",
        "!wget 'https://huggingface.co/spaces/ironjr/SemanticPalette/resolve/main/examples/image%20(7).png' -O '/content/SemanticPalette-hf/examples/image (7).png'\n",
        "!wget 'https://huggingface.co/spaces/ironjr/SemanticPalette/resolve/main/examples/image%20(8).png' -O '/content/SemanticPalette-hf/examples/image (8).png'\n",
        "!wget 'https://huggingface.co/spaces/ironjr/SemanticPalette/resolve/main/examples/image%20(9).png' -O '/content/SemanticPalette-hf/examples/image (9).png'\n",
        "\n",
        "!python app.py"
      ]
    }
  ],
  "metadata": {
    "accelerator": "GPU",
    "colab": {
      "gpuType": "T4",
      "provenance": []
    },
    "kernelspec": {
      "display_name": "Python 3",
      "name": "python3"
    },
    "language_info": {
      "name": "python"
    }
  },
  "nbformat": 4,
  "nbformat_minor": 0
}
